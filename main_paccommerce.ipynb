{
 "cells": [
  {
   "cell_type": "code",
   "execution_count": 1,
   "metadata": {},
   "outputs": [],
   "source": [
    "from user_paccommerce import User\n"
   ]
  },
  {
   "cell_type": "code",
   "execution_count": 2,
   "metadata": {},
   "outputs": [
    {
     "data": {
      "text/plain": [
       "'Bambang'"
      ]
     },
     "execution_count": 2,
     "metadata": {},
     "output_type": "execute_result"
    }
   ],
   "source": [
    "a = User('Bambang')\n",
    "a.username"
   ]
  },
  {
   "cell_type": "code",
   "execution_count": 4,
   "metadata": {},
   "outputs": [
    {
     "name": "stdout",
     "output_type": "stream",
     "text": [
      "Silver\n"
     ]
    }
   ],
   "source": [
    "a.predict_membership(3,4)"
   ]
  },
  {
   "cell_type": "code",
   "execution_count": 5,
   "metadata": {},
   "outputs": [
    {
     "name": "stdout",
     "output_type": "stream",
     "text": [
      "1577800.0\n"
     ]
    }
   ],
   "source": [
    "a.calculate_price('Silver',[300_000, 150_000, 1_250_000, 15_000])"
   ]
  },
  {
   "cell_type": "code",
   "execution_count": 4,
   "metadata": {},
   "outputs": [
    {
     "name": "stdout",
     "output_type": "stream",
     "text": [
      "Detail requirement based on membership tier\n",
      "\n",
      "Membership      Expense    Income\n",
      "------------  ---------  --------\n",
      "Platinum        8000000  15000000\n",
      "Gold            6000000  10000000\n",
      "Silver          5000000   7000000\n"
     ]
    }
   ],
   "source": [
    "a.show_requirements()"
   ]
  },
  {
   "cell_type": "code",
   "execution_count": 5,
   "metadata": {},
   "outputs": [
    {
     "name": "stdout",
     "output_type": "stream",
     "text": [
      "Silver\n"
     ]
    }
   ],
   "source": [
    "a.predict_membership(\"rozie\",8000000,15000000)"
   ]
  },
  {
   "cell_type": "code",
   "execution_count": 7,
   "metadata": {},
   "outputs": [
    {
     "name": "stdout",
     "output_type": "stream",
     "text": [
      "1577800.0\n"
     ]
    }
   ],
   "source": [
    "a.calculate_price('Silver',[300_000, 150_000, 1_250_000, 15_000])"
   ]
  },
  {
   "cell_type": "code",
   "execution_count": 8,
   "metadata": {},
   "outputs": [
    {
     "name": "stdout",
     "output_type": "stream",
     "text": [
      "[{'Platinum': 1000000.0}, {'Gold': 5099019.513592785}, {'Silver': 8246211.251235321}]\n"
     ]
    }
   ],
   "source": [
    "test = a.predict_membership(\"rozie\",7000000,15000000)"
   ]
  },
  {
   "cell_type": "code",
   "execution_count": 16,
   "metadata": {},
   "outputs": [
    {
     "ename": "TypeError",
     "evalue": "'dict_values' object is not subscriptable",
     "output_type": "error",
     "traceback": [
      "\u001b[0;31m---------------------------------------------------------------------------\u001b[0m",
      "\u001b[0;31mTypeError\u001b[0m                                 Traceback (most recent call last)",
      "Cell \u001b[0;32mIn[16], line 4\u001b[0m\n\u001b[1;32m      1\u001b[0m data \u001b[38;5;241m=\u001b[39m [{\u001b[38;5;124m'\u001b[39m\u001b[38;5;124mPlatinum\u001b[39m\u001b[38;5;124m'\u001b[39m: \u001b[38;5;241m1000000.0\u001b[39m}, {\u001b[38;5;124m'\u001b[39m\u001b[38;5;124mGold\u001b[39m\u001b[38;5;124m'\u001b[39m: \u001b[38;5;241m5099019.513592785\u001b[39m}, {\u001b[38;5;124m'\u001b[39m\u001b[38;5;124mSilver\u001b[39m\u001b[38;5;124m'\u001b[39m: \u001b[38;5;241m8246211.251235321\u001b[39m}]\n\u001b[1;32m      3\u001b[0m \u001b[38;5;28;01mfor\u001b[39;00m i \u001b[38;5;129;01min\u001b[39;00m data:\n\u001b[0;32m----> 4\u001b[0m     \u001b[38;5;28;01mif\u001b[39;00m \u001b[43mi\u001b[49m\u001b[38;5;241;43m.\u001b[39;49m\u001b[43mvalues\u001b[49m\u001b[43m(\u001b[49m\u001b[43m)\u001b[49m\u001b[43m[\u001b[49m\u001b[38;5;241;43m0\u001b[39;49m\u001b[43m]\u001b[49m \u001b[38;5;241m>\u001b[39m \u001b[38;5;241m2000000\u001b[39m:\n\u001b[1;32m      5\u001b[0m         \u001b[38;5;28mprint\u001b[39m(\u001b[38;5;28;01mTrue\u001b[39;00m)\n\u001b[1;32m      6\u001b[0m     \u001b[38;5;28;01melse\u001b[39;00m:\n",
      "\u001b[0;31mTypeError\u001b[0m: 'dict_values' object is not subscriptable"
     ]
    }
   ],
   "source": [
    "data = [{'Platinum': 1000000.0}, {'Gold': 5099019.513592785}, {'Silver': 8246211.251235321}]\n",
    "\n",
    "for i in data:\n",
    "    if i.values()[0] > 2000000:\n",
    "        print(True)\n",
    "    else:\n",
    "        print(False)\n",
    "    # print(i.keys())"
   ]
  },
  {
   "cell_type": "code",
   "execution_count": null,
   "metadata": {},
   "outputs": [
    {
     "name": "stdout",
     "output_type": "stream",
     "text": [
      "False\n",
      "True\n",
      "True\n"
     ]
    }
   ],
   "source": [
    "data = [{'Platinum': 1000000.0}, {'Gold': 5099019.513592785}, {'Silver': 8246211.251235321}]\n",
    "\n",
    "for i in data:\n",
    "    # print(list(i.values())[0])\n",
    "    \n",
    "    value = list(i.values())[0]  # Extract the first value from the dictionary\n",
    "   \n",
    "    if value > 2000000:\n",
    "        print(True)\n",
    "    else:\n",
    "        print(False)\n"
   ]
  },
  {
   "cell_type": "code",
   "execution_count": 8,
   "metadata": {},
   "outputs": [
    {
     "ename": "NameError",
     "evalue": "name 'test' is not defined",
     "output_type": "error",
     "traceback": [
      "\u001b[0;31m---------------------------------------------------------------------------\u001b[0m",
      "\u001b[0;31mNameError\u001b[0m                                 Traceback (most recent call last)",
      "Cell \u001b[0;32mIn[8], line 1\u001b[0m\n\u001b[0;32m----> 1\u001b[0m \u001b[43mtest\u001b[49m\u001b[38;5;241m.\u001b[39mmin()\n",
      "\u001b[0;31mNameError\u001b[0m: name 'test' is not defined"
     ]
    }
   ],
   "source": [
    "test.min()"
   ]
  },
  {
   "cell_type": "code",
   "execution_count": null,
   "metadata": {},
   "outputs": [
    {
     "name": "stdout",
     "output_type": "stream",
     "text": [
      "dict_values(['Platinum', 8000000, 15000000])\n",
      "dict_values(['Gold', 6000000, 10000000])\n",
      "dict_values(['Silver', 5000000, 7000000])\n"
     ]
    }
   ],
   "source": [
    "data_requirement = [\n",
    "        {\n",
    "            \"Membership\": \"Platinum\",\n",
    "            \"Expense\" : 8000000,\n",
    "            \"Income\" : 15000000\n",
    "        },\n",
    "        {\n",
    "            \"Membership\": \"Gold\",\n",
    "            \"Expense\" : 6_000_000,\n",
    "            \"Income\" : 10_000_000\n",
    "        },\n",
    "        {\n",
    "            \"Membership\": \"Silver\",\n",
    "            \"Expense\" : 5_000_000,\n",
    "            \"Income\" : 7_000_000\n",
    "        }\n",
    "    ]\n",
    "\n",
    "    # headers_requirement = list(x for x in data_requirement[0].keys())\n",
    "for i in data_requirement:\n",
    "    \n",
    "    "
   ]
  },
  {
   "cell_type": "code",
   "execution_count": null,
   "metadata": {},
   "outputs": [],
   "source": [
    "def predict_membership(self, username, income, expense):\n",
    "        self.username = username\n",
    "        self.income = income\n",
    "        self.expense = expense\n",
    "\n",
    "        r = 0\n",
    "        result = []\n",
    "        for i in self.__class__.data_requirement:\n",
    "            expense_threshold = i['Expense']\n",
    "            income_threshold = i['Income']\n",
    "            r = ((expense_threshold - expense)**2 + (income_threshold - income)**2)**0.5\n",
    "\n",
    "            result.append(i['Membership', r])\n",
    "        \n",
    "        print(result)"
   ]
  },
  {
   "cell_type": "code",
   "execution_count": 10,
   "metadata": {},
   "outputs": [
    {
     "name": "stdout",
     "output_type": "stream",
     "text": [
      "Platinum\n",
      "Gold\n",
      "Silver\n"
     ]
    }
   ],
   "source": [
    "data_membership = [\n",
    "        {\n",
    "            \"Membership\": \"Platinum\",\n",
    "            \"Discount\": \"15%\",\n",
    "            \"Another Benefit\": \"Benefit Silver + Gold + Voucher Liburan + Cashback max. 30%\"\n",
    "        },\n",
    "        {\n",
    "            \"Membership\": \"Gold\",\n",
    "            \"Discount\": \"10%\",\n",
    "            \"Another Benefit\": \"Benefit Silver + Voucher Ojek Online\"\n",
    "        },\n",
    "        {\n",
    "            \"Membership\": \"Silver\",\n",
    "            \"Discount\": \"8%\",\n",
    "            \"Another Benefit\": \"Voucher Makanan\"\n",
    "        }\n",
    "    ]\n",
    "\n",
    "for i in data_membership:\n",
    "    print(i['Membership'])"
   ]
  },
  {
   "cell_type": "code",
   "execution_count": null,
   "metadata": {},
   "outputs": [],
   "source": []
  }
 ],
 "metadata": {
  "kernelspec": {
   "display_name": "Python 3",
   "language": "python",
   "name": "python3"
  },
  "language_info": {
   "codemirror_mode": {
    "name": "ipython",
    "version": 3
   },
   "file_extension": ".py",
   "mimetype": "text/x-python",
   "name": "python",
   "nbconvert_exporter": "python",
   "pygments_lexer": "ipython3",
   "version": "3.11.9"
  }
 },
 "nbformat": 4,
 "nbformat_minor": 2
}
