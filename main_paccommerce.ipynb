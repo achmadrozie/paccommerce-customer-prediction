{
 "cells": [
  {
   "cell_type": "code",
   "execution_count": 1,
   "metadata": {},
   "outputs": [],
   "source": [
    "from user_paccommerce import User\n"
   ]
  },
  {
   "cell_type": "code",
   "execution_count": 2,
   "metadata": {},
   "outputs": [
    {
     "data": {
      "text/plain": [
       "'rozie'"
      ]
     },
     "execution_count": 2,
     "metadata": {},
     "output_type": "execute_result"
    }
   ],
   "source": [
    "a = User('rozie')\n",
    "a.username"
   ]
  },
  {
   "cell_type": "code",
   "execution_count": 3,
   "metadata": {},
   "outputs": [],
   "source": [
    "a.income"
   ]
  },
  {
   "cell_type": "code",
   "execution_count": null,
   "metadata": {},
   "outputs": [],
   "source": []
  },
  {
   "cell_type": "code",
   "execution_count": 4,
   "metadata": {},
   "outputs": [
    {
     "name": "stdout",
     "output_type": "stream",
     "text": [
      "Detail requirement based on membership tier\n",
      "\n",
      "Membership      Expense    Income\n",
      "------------  ---------  --------\n",
      "Platinum        8000000  15000000\n",
      "Gold            6000000  10000000\n",
      "Silver          5000000   7000000\n"
     ]
    }
   ],
   "source": [
    "a.show_requirements()"
   ]
  },
  {
   "cell_type": "code",
   "execution_count": 5,
   "metadata": {},
   "outputs": [
    {
     "ename": "AttributeError",
     "evalue": "'list' object has no attribute 'items'",
     "output_type": "error",
     "traceback": [
      "\u001b[0;31m---------------------------------------------------------------------------\u001b[0m",
      "\u001b[0;31mAttributeError\u001b[0m                            Traceback (most recent call last)",
      "Cell \u001b[0;32mIn[5], line 1\u001b[0m\n\u001b[0;32m----> 1\u001b[0m \u001b[43ma\u001b[49m\u001b[38;5;241;43m.\u001b[39;49m\u001b[43mpredict_membership\u001b[49m\u001b[43m(\u001b[49m\u001b[38;5;124;43m\"\u001b[39;49m\u001b[38;5;124;43mrozie\u001b[39;49m\u001b[38;5;124;43m\"\u001b[39;49m\u001b[43m,\u001b[49m\u001b[38;5;241;43m8000000\u001b[39;49m\u001b[43m,\u001b[49m\u001b[38;5;241;43m15000000\u001b[39;49m\u001b[43m)\u001b[49m\n",
      "File \u001b[0;32m~/Python/paccommerce/user_paccommerce.py:105\u001b[0m, in \u001b[0;36mUser.predict_membership\u001b[0;34m(self, username, expense, income)\u001b[0m\n\u001b[1;32m    103\u001b[0m membership \u001b[38;5;241m=\u001b[39m \u001b[38;5;28;01mNone\u001b[39;00m\n\u001b[1;32m    104\u001b[0m init_val \u001b[38;5;241m=\u001b[39m \u001b[38;5;241m0\u001b[39m\n\u001b[0;32m--> 105\u001b[0m \u001b[38;5;28;01mfor\u001b[39;00m key, values \u001b[38;5;129;01min\u001b[39;00m \u001b[43mfinal_result\u001b[49m\u001b[38;5;241;43m.\u001b[39;49m\u001b[43mitems\u001b[49m():\n\u001b[1;32m    106\u001b[0m     \u001b[38;5;28;01mif\u001b[39;00m init_val \u001b[38;5;241m<\u001b[39m values:\n\u001b[1;32m    107\u001b[0m         membership \u001b[38;5;241m=\u001b[39m key\n",
      "\u001b[0;31mAttributeError\u001b[0m: 'list' object has no attribute 'items'"
     ]
    }
   ],
   "source": [
    "a.predict_membership(\"rozie\",8000000,15000000)"
   ]
  },
  {
   "cell_type": "code",
   "execution_count": 8,
   "metadata": {},
   "outputs": [
    {
     "name": "stdout",
     "output_type": "stream",
     "text": [
      "[{'Platinum': 1000000.0}, {'Gold': 5099019.513592785}, {'Silver': 8246211.251235321}]\n"
     ]
    }
   ],
   "source": [
    "test = a.predict_membership(\"rozie\",7000000,15000000)"
   ]
  },
  {
   "cell_type": "code",
   "execution_count": null,
   "metadata": {},
   "outputs": [],
   "source": [
    "data = [{'Platinum': 1000000.0}, {'Gold': 5099019.513592785}, {'Silver': 8246211.251235321}]\n",
    "\n",
    "for i in data:\n",
    "    print(i)"
   ]
  },
  {
   "cell_type": "code",
   "execution_count": 9,
   "metadata": {},
   "outputs": [
    {
     "ename": "AttributeError",
     "evalue": "'NoneType' object has no attribute 'min'",
     "output_type": "error",
     "traceback": [
      "\u001b[0;31m---------------------------------------------------------------------------\u001b[0m",
      "\u001b[0;31mAttributeError\u001b[0m                            Traceback (most recent call last)",
      "Cell \u001b[0;32mIn[9], line 1\u001b[0m\n\u001b[0;32m----> 1\u001b[0m \u001b[43mtest\u001b[49m\u001b[38;5;241;43m.\u001b[39;49m\u001b[43mmin\u001b[49m()\n",
      "\u001b[0;31mAttributeError\u001b[0m: 'NoneType' object has no attribute 'min'"
     ]
    }
   ],
   "source": [
    "test.min()"
   ]
  },
  {
   "cell_type": "code",
   "execution_count": null,
   "metadata": {},
   "outputs": [
    {
     "name": "stdout",
     "output_type": "stream",
     "text": [
      "dict_values(['Platinum', 8000000, 15000000])\n",
      "dict_values(['Gold', 6000000, 10000000])\n",
      "dict_values(['Silver', 5000000, 7000000])\n"
     ]
    }
   ],
   "source": [
    "data_requirement = [\n",
    "        {\n",
    "            \"Membership\": \"Platinum\",\n",
    "            \"Expense\" : 8000000,\n",
    "            \"Income\" : 15000000\n",
    "        },\n",
    "        {\n",
    "            \"Membership\": \"Gold\",\n",
    "            \"Expense\" : 6_000_000,\n",
    "            \"Income\" : 10_000_000\n",
    "        },\n",
    "        {\n",
    "            \"Membership\": \"Silver\",\n",
    "            \"Expense\" : 5_000_000,\n",
    "            \"Income\" : 7_000_000\n",
    "        }\n",
    "    ]\n",
    "\n",
    "    # headers_requirement = list(x for x in data_requirement[0].keys())\n",
    "for i in data_requirement:\n",
    "    \n",
    "    "
   ]
  },
  {
   "cell_type": "code",
   "execution_count": null,
   "metadata": {},
   "outputs": [],
   "source": [
    "def predict_membership(self, username, income, expense):\n",
    "        self.username = username\n",
    "        self.income = income\n",
    "        self.expense = expense\n",
    "\n",
    "        r = 0\n",
    "        result = []\n",
    "        for i in self.__class__.data_requirement:\n",
    "            expense_threshold = i['Expense']\n",
    "            income_threshold = i['Income']\n",
    "            r = ((expense_threshold - expense)**2 + (income_threshold - income)**2)**0.5\n",
    "\n",
    "            result.append(i['Membership', r])\n",
    "        \n",
    "        print(result)"
   ]
  },
  {
   "cell_type": "code",
   "execution_count": 7,
   "metadata": {},
   "outputs": [
    {
     "ename": "TypeError",
     "evalue": "predict_membership() missing 1 required positional argument: 'expense'",
     "output_type": "error",
     "traceback": [
      "\u001b[0;31m---------------------------------------------------------------------------\u001b[0m",
      "\u001b[0;31mTypeError\u001b[0m                                 Traceback (most recent call last)",
      "Cell \u001b[0;32mIn[7], line 1\u001b[0m\n\u001b[0;32m----> 1\u001b[0m \u001b[43mpredict_membership\u001b[49m\u001b[43m(\u001b[49m\u001b[38;5;124;43m\"\u001b[39;49m\u001b[38;5;124;43mrozie\u001b[39;49m\u001b[38;5;124;43m\"\u001b[39;49m\u001b[43m,\u001b[49m\u001b[38;5;241;43m2000\u001b[39;49m\u001b[43m,\u001b[49m\u001b[38;5;241;43m5000\u001b[39;49m\u001b[43m)\u001b[49m\n",
      "\u001b[0;31mTypeError\u001b[0m: predict_membership() missing 1 required positional argument: 'expense'"
     ]
    }
   ],
   "source": [
    "predict_membership(\"rozie\",2000,5000)"
   ]
  },
  {
   "cell_type": "code",
   "execution_count": null,
   "metadata": {},
   "outputs": [],
   "source": []
  }
 ],
 "metadata": {
  "kernelspec": {
   "display_name": "Python 3",
   "language": "python",
   "name": "python3"
  },
  "language_info": {
   "codemirror_mode": {
    "name": "ipython",
    "version": 3
   },
   "file_extension": ".py",
   "mimetype": "text/x-python",
   "name": "python",
   "nbconvert_exporter": "python",
   "pygments_lexer": "ipython3",
   "version": "3.11.9"
  }
 },
 "nbformat": 4,
 "nbformat_minor": 2
}
